{
 "cells": [
  {
   "cell_type": "markdown",
   "metadata": {},
   "source": [
    "# Task-1  The data analysis workflow and understanding the model and data."
   ]
  },
  {
   "cell_type": "markdown",
   "metadata": {},
   "source": [
    "# Import necessary libraries"
   ]
  },
  {
   "cell_type": "code",
   "execution_count": 7,
   "metadata": {},
   "outputs": [],
   "source": [
    "\n",
    "import sys\n",
    "import os\n",
    "import pandas as pd\n",
    "import matplotlib.pyplot as plt\n",
    "import seaborn as sns\n",
    "from statsmodels.tsa.arima.model import ARIMA\n",
    "\n",
    "# Add the parent directory to sys.path\n",
    "sys.path.append(os.path.abspath('../scripts'))"
   ]
  },
  {
   "cell_type": "markdown",
   "metadata": {},
   "source": [
    "## Importing functions from 'preprocessing_and_eda.py' module"
   ]
  },
  {
   "cell_type": "code",
   "execution_count": 8,
   "metadata": {},
   "outputs": [],
   "source": [
    "from preprocessing_and_eda import load_and_preprocess_data,plot_price_trend,fit_arima_model,plot_residuals"
   ]
  },
  {
   "cell_type": "markdown",
   "metadata": {},
   "source": [
    "## Step 1: Loading and Preprocessing Data"
   ]
  },
  {
   "cell_type": "code",
   "execution_count": null,
   "metadata": {},
   "outputs": [
    {
     "name": "stderr",
     "output_type": "stream",
     "text": [
      "e:\\EDUCATION\\Kifiya_AI_Mastery_Program\\week-10\\scripts\\preprocessing_and_eda.py:13: UserWarning: The argument 'infer_datetime_format' is deprecated and will be removed in a future version. A strict version of it is now the default, see https://pandas.pydata.org/pdeps/0004-consistent-to-datetime-parsing.html. You can safely remove this argument.\n",
      "  df['Date'] = pd.to_datetime(df['Date'], infer_datetime_format=True)\n",
      "e:\\EDUCATION\\Kifiya_AI_Mastery_Program\\week-10\\scripts\\preprocessing_and_eda.py:13: UserWarning: Could not infer format, so each element will be parsed individually, falling back to `dateutil`. To ensure parsing is consistent and as-expected, please specify a format.\n",
      "  df['Date'] = pd.to_datetime(df['Date'], infer_datetime_format=True)\n"
     ]
    },
    {
     "name": "stdout",
     "output_type": "stream",
     "text": [
      "First few rows of data:\n",
      "        Date  Price\n",
      "0 1987-05-20  18.63\n",
      "1 1987-05-21  18.45\n",
      "2 1987-05-22  18.55\n",
      "3 1987-05-25  18.60\n",
      "4 1987-05-26  18.63\n",
      "\n",
      "Data Info After Preprocessing:\n",
      "<class 'pandas.core.frame.DataFrame'>\n",
      "RangeIndex: 9011 entries, 0 to 9010\n",
      "Data columns (total 2 columns):\n",
      " #   Column  Non-Null Count  Dtype         \n",
      "---  ------  --------------  -----         \n",
      " 0   Date    9011 non-null   datetime64[ns]\n",
      " 1   Price   9011 non-null   float64       \n",
      "dtypes: datetime64[ns](1), float64(1)\n",
      "memory usage: 140.9 KB\n"
     ]
    }
   ],
   "source": [
    "\n",
    "data_path = \"../data/BrentOilPrices.csv\"\n",
    "df = load_and_preprocess_data(data_path)s\n"
   ]
  },
  {
   "cell_type": "markdown",
   "metadata": {},
   "source": [
    "## Step 2: Exploratory Data Analysis (EDA)"
   ]
  },
  {
   "cell_type": "markdown",
   "metadata": {},
   "source": [
    "### Plot price trend over time"
   ]
  },
  {
   "cell_type": "code",
   "execution_count": null,
   "metadata": {},
   "outputs": [],
   "source": [
    "plot_price_trend(df)"
   ]
  },
  {
   "cell_type": "markdown",
   "metadata": {},
   "source": [
    "## Step 3: Define Analysis Workflow and Assumptions\n",
    "\n",
    "### Data Analysis Workflow\n",
    "1. Load and Preprocess Data: Load the Brent oil prices data and preprocess it (date parsing, missing values handling).\n",
    "2. Exploratory Data Analysis (EDA): Explore general trends and statistical properties of the dataset.\n",
    "3. Model Selection: Evaluate suitable time series models, such as ARIMA and GARCH.\n",
    "4. Change Point Analysis: Detect major changes or shifts in Brent oil prices, potentially using models like Bayesian change point detection.\n",
    "5. Interpretation and Insights: Generate insights on price fluctuations and prepare reports for stakeholders.\n",
    "\n",
    "### Assumptions and Limitations\n",
    "- The data is assumed to be a reliable representation of historical Brent oil prices.\n",
    "- Only historical prices are used; other economic factors are not directly included in this dataset.\n",
    "- Forecasting may have limitations due to unforeseen political or economic events."
   ]
  },
  {
   "cell_type": "markdown",
   "metadata": {},
   "source": [
    "## Step 4: ARIMA Model Explanation and Fitting"
   ]
  },
  {
   "cell_type": "markdown",
   "metadata": {},
   "source": [
    "### Fit the model and summarize results"
   ]
  },
  {
   "cell_type": "code",
   "execution_count": null,
   "metadata": {},
   "outputs": [],
   "source": [
    "arima_model = fit_arima_model(df)"
   ]
  },
  {
   "cell_type": "markdown",
   "metadata": {},
   "source": [
    "## Step 5: Residuals Analysis"
   ]
  },
  {
   "cell_type": "markdown",
   "metadata": {},
   "source": [
    "### Plot residuals of the model"
   ]
  },
  {
   "cell_type": "code",
   "execution_count": null,
   "metadata": {},
   "outputs": [],
   "source": [
    "plot_residuals(arima_model)"
   ]
  },
  {
   "cell_type": "markdown",
   "metadata": {},
   "source": [
    "## Step 6: Summary and Next Steps\n",
    "\n",
    "### Summary and Next Steps\n",
    "- We've outlined a data analysis workflow and performed basic EDA.\n",
    "- ARIMA model was fitted to understand potential trends and seasonality.\n",
    "- Next steps include exploring additional models (e.g., GARCH) and implementing change point analysis to detect significant shifts.\n",
    "- Document assumptions, limitations, and reporting formats for stakeholders.\n"
   ]
  }
 ],
 "metadata": {
  "kernelspec": {
   "display_name": "w10venv",
   "language": "python",
   "name": "python3"
  },
  "language_info": {
   "codemirror_mode": {
    "name": "ipython",
    "version": 3
   },
   "file_extension": ".py",
   "mimetype": "text/x-python",
   "name": "python",
   "nbconvert_exporter": "python",
   "pygments_lexer": "ipython3",
   "version": "3.12.9"
  }
 },
 "nbformat": 4,
 "nbformat_minor": 2
}
